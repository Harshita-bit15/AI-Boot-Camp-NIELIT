{
  "nbformat": 4,
  "nbformat_minor": 0,
  "metadata": {
    "colab": {
      "provenance": []
    },
    "kernelspec": {
      "name": "python3",
      "display_name": "Python 3"
    },
    "language_info": {
      "name": "python"
    }
  },
  "cells": [
    {
      "cell_type": "code",
      "execution_count": 1,
      "metadata": {
        "colab": {
          "base_uri": "https://localhost:8080/"
        },
        "id": "3LjOliyAl5D6",
        "outputId": "188cf02c-46bd-4c2f-df12-136a635fa4f5"
      },
      "outputs": [
        {
          "output_type": "stream",
          "name": "stdout",
          "text": [
            "HELLO WORLD\n"
          ]
        }
      ],
      "source": [
        "print (\"HELLO WORLD\")"
      ]
    },
    {
      "cell_type": "code",
      "source": [
        " 125+225"
      ],
      "metadata": {
        "colab": {
          "base_uri": "https://localhost:8080/"
        },
        "id": "IYvMSqGQo97c",
        "outputId": "045bdc1e-d2ff-4986-fff2-16260ce0bb37"
      },
      "execution_count": 2,
      "outputs": [
        {
          "output_type": "execute_result",
          "data": {
            "text/plain": [
              "350"
            ]
          },
          "metadata": {},
          "execution_count": 2
        }
      ]
    },
    {
      "cell_type": "code",
      "source": [
        "a=125\n",
        "b=225\n",
        "c=a+b\n",
        "print (\"Value of c is\",c)"
      ],
      "metadata": {
        "colab": {
          "base_uri": "https://localhost:8080/"
        },
        "id": "ORBsEjhbpGg3",
        "outputId": "38af8cc1-014e-429d-9a3d-9a0fd939ff90"
      },
      "execution_count": 4,
      "outputs": [
        {
          "output_type": "stream",
          "name": "stdout",
          "text": [
            "Value of c is 350\n"
          ]
        }
      ]
    },
    {
      "cell_type": "code",
      "source": [
        "a=125\n",
        "b=225\n",
        "c=a*b\n",
        "print (\"Value of c is\", c)"
      ],
      "metadata": {
        "colab": {
          "base_uri": "https://localhost:8080/"
        },
        "id": "R1cTSZAWpgpg",
        "outputId": "991fb9e0-a49d-45c0-8119-4cae241a819d"
      },
      "execution_count": 5,
      "outputs": [
        {
          "output_type": "stream",
          "name": "stdout",
          "text": [
            "Value of c is 28125\n"
          ]
        }
      ]
    }
  ]
}